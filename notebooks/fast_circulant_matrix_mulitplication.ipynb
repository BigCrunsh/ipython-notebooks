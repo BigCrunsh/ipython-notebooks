{
 "cells": [
  {
   "cell_type": "markdown",
   "metadata": {},
   "source": [
    "# Fast Matrix Multiplication of Circulant Matrices"
   ]
  },
  {
   "cell_type": "markdown",
   "metadata": {},
   "source": [
    "Application: Speed up computation of random projections in the context of LSH ([Circulant Binary Embedding](http://www.jmlr.org/proceedings/papers/v32/yub14.pdf)).\n",
    "\n",
    "Basic argumentation:\n",
    "- Definition: convolution is multiplication of vector with circulant matrix\n",
    "- Convolution theorem: convolution is Hadarmard (element wise) product in frequency domain\n",
    "- FFT converts signal into frequency domain\n",
    "- Convolution is in O(n^2), Hadarmard product is in O(n), FFT is in O(nlogn)\n",
    "- Thus, multiplication of a vector with a circulant matrix can be done in basically O(n log n)\n",
    "\n",
    "Further reading:\n",
    "- [Analysis for more general matrice](http://users.iems.northwestern.edu/~linetsky/ExtrapolationAppendix.pdf)"
   ]
  },
  {
   "cell_type": "code",
   "execution_count": 1,
   "metadata": {
    "collapsed": true
   },
   "outputs": [],
   "source": [
    "import numpy as np\n",
    "import matplotlib.pyplot as plt\n",
    "%matplotlib inline\n",
    "\n",
    "from scipy.linalg import circulant"
   ]
  },
  {
   "cell_type": "markdown",
   "metadata": {},
   "source": [
    "Create a random circulant matrix"
   ]
  },
  {
   "cell_type": "code",
   "execution_count": 2,
   "metadata": {
    "collapsed": false
   },
   "outputs": [
    {
     "data": {
      "text/plain": [
       "<matplotlib.image.AxesImage at 0x7f3afd47db50>"
      ]
     },
     "execution_count": 2,
     "metadata": {},
     "output_type": "execute_result"
    },
    {
     "data": {
      "image/png": "[encoded data removed]",
      "text/plain": [
       "<matplotlib.figure.Figure at 0x7f3b052ae090>"
      ]
     },
     "metadata": {},
     "output_type": "display_data"
    }
   ],
   "source": [
    "k = 8\n",
    "c = np.random.rand(k)  # random vector inducing the circulant matrix\n",
    "x = np.random.rand(k)  # some random vector that we wanna quickly multiply with the circulant matrix\n",
    "C = circulant(c)       # circulant matrix\n",
    "plt.imshow(C, interpolation='None')"
   ]
  },
  {
   "cell_type": "markdown",
   "metadata": {},
   "source": [
    "Expensive computation:"
   ]
  },
  {
   "cell_type": "code",
   "execution_count": 3,
   "metadata": {
    "collapsed": false
   },
   "outputs": [
    {
     "data": {
      "text/plain": [
       "array([ 1.14503474,  1.59832668,  1.37774406,  1.67293804,  1.35090707,\n",
       "        1.38784599,  1.5691069 ,  1.56077294])"
      ]
     },
     "execution_count": 3,
     "metadata": {},
     "output_type": "execute_result"
    }
   ],
   "source": [
    "np.inner(C,x)"
   ]
  },
  {
   "cell_type": "markdown",
   "metadata": {},
   "source": [
    "Hadamard product in frequency domain:"
   ]
  },
  {
   "cell_type": "code",
   "execution_count": 4,
   "metadata": {
    "collapsed": false
   },
   "outputs": [
    {
     "data": {
      "text/plain": [
       "array([ 1.14503474 +1.66533454e-16j,  1.59832668 -1.72605851e-16j,\n",
       "        1.37774406 +1.45716772e-16j,  1.67293804 +2.34196317e-17j,\n",
       "        1.35090707 -1.66533454e-16j,  1.38784599 +7.02554360e-17j,\n",
       "        1.56910690 -1.45716772e-16j,  1.56077294 +7.89307829e-17j])"
      ]
     },
     "execution_count": 4,
     "metadata": {},
     "output_type": "execute_result"
    }
   ],
   "source": [
    "np.fft.ifft(np.fft.fft(c)*np.fft.fft(x))"
   ]
  }
 ],
 "metadata": {
  "kernelspec": {
   "display_name": "Python 2",
   "language": "python",
   "name": "python2"
  },
  "language_info": {
   "codemirror_mode": {
    "name": "ipython",
    "version": 2
   },
   "file_extension": ".py",
   "mimetype": "text/x-python",
   "name": "python",
   "nbconvert_exporter": "python",
   "pygments_lexer": "ipython2",
   "version": "2.7.10"
  }
 },
 "nbformat": 4,
 "nbformat_minor": 0
}
