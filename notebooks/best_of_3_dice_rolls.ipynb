{
 "cells": [
  {
   "cell_type": "markdown",
   "id": "89a4087b",
   "metadata": {},
   "source": [
    "# Strategy Evalution for Rolling Dice in 3 Rounds"
   ]
  },
  {
   "cell_type": "code",
   "execution_count": 1,
   "id": "eb5db7dd",
   "metadata": {},
   "outputs": [],
   "source": [
    "import random\n",
    "import numpy as np\n",
    "import matplotlib.pyplot as plt\n",
    "from scipy.stats import mode, wilcoxon"
   ]
  },
  {
   "cell_type": "markdown",
   "id": "1d648dcc",
   "metadata": {},
   "source": [
    "## Game Definitions"
   ]
  },
  {
   "cell_type": "code",
   "execution_count": 2,
   "id": "c1bad328",
   "metadata": {},
   "outputs": [],
   "source": [
    "num_dice = 5\n",
    "num_trials = 3"
   ]
  },
  {
   "cell_type": "markdown",
   "id": "51f7bd20",
   "metadata": {},
   "source": [
    "## Monte Carlo Simultation"
   ]
  },
  {
   "cell_type": "code",
   "execution_count": 3,
   "id": "b766fd72",
   "metadata": {},
   "outputs": [],
   "source": [
    "num_simulations = 100000"
   ]
  },
  {
   "cell_type": "code",
   "execution_count": 4,
   "id": "17640d69",
   "metadata": {},
   "outputs": [],
   "source": [
    "def monte_carlo_dice_rolls(sel_strategy, num_simulations=num_simulations):\n",
    "    \"\"\"Runs a Monte Carlo simulation for a given selection strategy for rolling dice.\n",
    "\n",
    "    The game consists of `num_trials` trials, in which dice are rolled. After rolling the dice,\n",
    "    the choice is which dice to keep (and count the pips) and which to reroll (and discard the pips).\n",
    "    This choice is represented through the selection strategy `sel_strategy`. Dice of the last run are all kept.\n",
    "\n",
    "    Args:\n",
    "        sel_strategy (function): function that accepts an array of\n",
    "            pips and the trial and returns a boolean array indicating\n",
    "            which die to keep.\n",
    "        num_simulations (int): rounds of monto carlo simulations\n",
    "\n",
    "    Returns:\n",
    "        np.array: array of results of each monto carlo simulation.\n",
    "    \"\"\"\n",
    "    outcomes = []\n",
    "    for _ in range(num_simulations):\n",
    "        num_dice_reroll = num_dice\n",
    "        total_pips = 0\n",
    "        for i in range(num_trials):\n",
    "            dice = np.array([random.randint(1, 6) for _ in range(num_dice_reroll)])\n",
    "            if i == num_trials - 1: # last trial\n",
    "                mask = dice > 0\n",
    "            else:\n",
    "                mask = sel_strategy(dice, i+1)\n",
    "            total_pips += sum(dice[mask])\n",
    "            num_dice_kept = sum(mask)\n",
    "            num_dice_reroll -= num_dice_kept\n",
    "        outcomes.append(total_pips)\n",
    "    return np.array(outcomes)"
   ]
  },
  {
   "cell_type": "code",
   "execution_count": 5,
   "id": "4caae05e",
   "metadata": {},
   "outputs": [],
   "source": [
    "def sel_strategy_4(dice_pips, trial):\n",
    "    \"\"\"Implements the keep 4+ pips strategy.\n",
    "\n",
    "    This strategy keeps all dice with more than 3 pips.\n",
    "\n",
    "    Args:\n",
    "        dice_pips (np.array): outcome of each die roll\n",
    "        trial (int): number of trial\n",
    "\n",
    "    Returns:\n",
    "        np.array: boolean corresponding to which dice to keep\n",
    "    \"\"\"\n",
    "\n",
    "    if trial == 1:\n",
    "        return dice_pips > 3\n",
    "    return dice_pips > 3\n",
    "\n",
    "res_4 = monte_carlo_dice_rolls(sel_strategy_4)"
   ]
  },
  {
   "cell_type": "code",
   "execution_count": 6,
   "id": "c5d22254",
   "metadata": {},
   "outputs": [],
   "source": [
    "def sel_strategy_5_4(dice_pips, trial):\n",
    "    \"\"\"Implements the keep 5+/4+ pips strategy.\n",
    "\n",
    "    This strategy keeps in the first run all dice with more than 4 pips and in the subsequent runs\n",
    "    all dice with more than 3 pips.\n",
    "\n",
    "    Args:\n",
    "        dice_pips (np.array): outcome of each die roll\n",
    "        trial (int): number of trial\n",
    "\n",
    "    Returns:\n",
    "        np.array: boolean corresponding to which dice to keep\n",
    "    \"\"\"\n",
    "    if trial == 1:\n",
    "        return dice_pips > 4\n",
    "    return dice_pips > 3\n",
    "\n",
    "res_5_4 = monte_carlo_dice_rolls(sel_strategy_5_4)"
   ]
  },
  {
   "cell_type": "code",
   "execution_count": 7,
   "id": "32a27946",
   "metadata": {},
   "outputs": [],
   "source": [
    "def sel_strategy_5_4_flex(dice_pips, trial):\n",
    "    \"\"\"Implements an alternative to the keep 5+/4+ pips strategy.\n",
    "\n",
    "    This strategy keeps in the first run all dice with more than 4 pips and in the subsequent runs\n",
    "    all dice with more than 3 pips. If in the first trial there are no dice with 5+ pips, it would also\n",
    "    keep the 4s.\n",
    "\n",
    "    Args:\n",
    "        dice_pips (np.array): outcome of each die roll\n",
    "        trial (int): number of trial\n",
    "\n",
    "    Returns:\n",
    "        np.array: boolean corresponding to which dice to keep\n",
    "    \"\"\"\n",
    "    if trial == 1:\n",
    "        mask = dice_pips > 4\n",
    "        if any(mask):\n",
    "            return mask\n",
    "    return dice_pips > 3\n",
    "\n",
    "res_5_4_flex = monte_carlo_dice_rolls(sel_strategy_5_4_flex)"
   ]
  },
  {
   "cell_type": "markdown",
   "id": "bb81bca1",
   "metadata": {},
   "source": [
    "## Evaluation"
   ]
  },
  {
   "cell_type": "code",
   "execution_count": 8,
   "id": "a898124d",
   "metadata": {},
   "outputs": [
    {
     "data": {
      "image/png": "[encoded data removed]",
      "text/plain": [
       "<Figure size 432x288 with 1 Axes>"
      ]
     },
     "metadata": {
      "needs_background": "light"
     },
     "output_type": "display_data"
    }
   ],
   "source": [
    "bins = np.arange(30)+1.5\n",
    "plt.hist(res_4, bins, density=True, facecolor='g', alpha=0.75, edgecolor='black')\n",
    "plt.hist(res_5_4, bins, density=True, facecolor='y', alpha=0.75, edgecolor='black')\n",
    "\n",
    "plt.xlabel('Dice Pips')\n",
    "plt.ylabel('Probability')\n",
    "plt.xlim([0,31])\n",
    "plt.title('Histogram of Dice Pips')\n",
    "plt.legend(['4', '5/4'])\n",
    "plt.show()\n",
    "\n"
   ]
  },
  {
   "cell_type": "code",
   "execution_count": 9,
   "id": "3bad52b4",
   "metadata": {},
   "outputs": [
    {
     "name": "stdout",
     "output_type": "stream",
     "text": [
      "\n",
      "        Mean: 23.13548\n",
      "        Mode: [24]\n",
      "        25th and 75th percentile: [21. 25.]\n",
      "    \n",
      "\n",
      "        Mean: 23.32519\n",
      "        Mode: [24]\n",
      "        25th and 75th percentile: [21. 26.]\n",
      "    \n",
      "\n",
      "        Mean: 23.30572\n",
      "        Mode: [24]\n",
      "        25th and 75th percentile: [21. 26.]\n",
      "    \n"
     ]
    }
   ],
   "source": [
    "def print_stats(res):\n",
    "    print(f\"\"\"\n",
    "        Mean: {np.mean(res)}\n",
    "        Mode: {mode(res, keepdims=True).mode}\n",
    "        25th and 75th percentile: {np.percentile(res, [25,75])}\n",
    "    \"\"\")\n",
    "\n",
    "print_stats(res_4)\n",
    "print_stats(res_5_4)\n",
    "print_stats(res_5_4_flex)"
   ]
  },
  {
   "cell_type": "markdown",
   "id": "87cc9b1f",
   "metadata": {},
   "source": [
    "# Statistical Tests: Is the Strategy Signficantly Better?"
   ]
  },
  {
   "cell_type": "code",
   "execution_count": 10,
   "id": "eaa0880a",
   "metadata": {},
   "outputs": [
    {
     "data": {
      "text/plain": [
       "WilcoxonResult(statistic=1929404965.0, pvalue=1.630901465987807e-53)"
      ]
     },
     "execution_count": 10,
     "metadata": {},
     "output_type": "execute_result"
    }
   ],
   "source": [
    "wilcoxon(\n",
    "    x=res_4, y=res_5_4,\n",
    "    zero_method='wilcox', # ignore ties\n",
    "    \n",
    ")"
   ]
  },
  {
   "cell_type": "markdown",
   "id": "aaed8c1d",
   "metadata": {},
   "source": [
    "The strategy to keep dice with more than 4 dots in the first trial and dice with more than 3 dots in the second trial is superior over keeping always dice with more than 3 dots."
   ]
  }
 ],
 "metadata": {
  "kernelspec": {
   "display_name": "Python 3 (ipykernel)",
   "language": "python",
   "name": "python3"
  },
  "language_info": {
   "codemirror_mode": {
    "name": "ipython",
    "version": 3
   },
   "file_extension": ".py",
   "mimetype": "text/x-python",
   "name": "python",
   "nbconvert_exporter": "python",
   "pygments_lexer": "ipython3",
   "version": "3.9.10"
  }
 },
 "nbformat": 4,
 "nbformat_minor": 5
}
