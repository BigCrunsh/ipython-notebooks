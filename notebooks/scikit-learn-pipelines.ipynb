{
 "cells": [
  {
   "cell_type": "markdown",
   "metadata": {},
   "source": [
    "# Demo: scikit-learn pipelines"
   ]
  },
  {
   "cell_type": "markdown",
   "metadata": {},
   "source": [
    "This notebook demonstrates how a machine learning pipeline can be built with the scikit-learn pipeline framework."
   ]
  },
  {
   "cell_type": "code",
   "execution_count": 1,
   "metadata": {
    "collapsed": false
   },
   "outputs": [],
   "source": [
    "import numpy as np\n",
    "\n",
    "import matplotlib.pyplot as plt\n",
    "%matplotlib inline\n",
    "\n",
    "from sklearn.linear_model import LogisticRegression\n",
    "from sklearn.cross_validation import cross_val_score\n",
    "from sklearn.grid_search import GridSearchCV\n",
    "from sklearn.pipeline import Pipeline\n",
    "from sklearn.preprocessing import StandardScaler\n",
    "from sklearn.feature_selection import SelectKBest, f_classif"
   ]
  },
  {
   "cell_type": "markdown",
   "metadata": {},
   "source": [
    "Let's create some data and visualize it. "
   ]
  },
  {
   "cell_type": "code",
   "execution_count": 2,
   "metadata": {
    "collapsed": false
   },
   "outputs": [
    {
     "data": {
      "text/plain": [
       "<matplotlib.collections.PathCollection at 0x7f86a08b1dd0>"
      ]
     },
     "execution_count": 2,
     "metadata": {},
     "output_type": "execute_result"
    },
    {
     "data": {
      "image/png": "[encoded data removed]",
      "text/plain": [
       "<matplotlib.figure.Figure at 0x7f86a090cdd0>"
      ]
     },
     "metadata": {},
     "output_type": "display_data"
    }
   ],
   "source": [
    "# Number of samples per component\n",
    "n_samples = 1000\n",
    "\n",
    "# Generate random sample, two classes\n",
    "np.random.seed(0)\n",
    "cov1 = np.array([[0., -0.1], [1.7, .4]])\n",
    "mean1 = np.array([0, 0])\n",
    "cov2 = np.array([[1.0, 0.0], [0.0, 1.0]])\n",
    "mean2 = np.array([-2, 2])\n",
    "                 \n",
    "X = np.r_[\n",
    "    np.dot(np.random.randn(n_samples, 2), cov1) + mean1, \n",
    "    np.dot(np.random.randn(n_samples, 2), cov2) + mean2\n",
    "]\n",
    "y = np.concatenate([np.ones(n_samples), -np.ones(n_samples)])\n",
    "\n",
    "plt.scatter(X[y == +1, 0], X[y == +1, 1], .8, color='red')\n",
    "plt.scatter(X[y == -1, 0], X[y == -1, 1], .8, color='blue')"
   ]
  },
  {
   "cell_type": "markdown",
   "metadata": {},
   "source": [
    "Our goal is to learn a classifier for these two classes. In our example, we use a logistic regression."
   ]
  },
  {
   "cell_type": "code",
   "execution_count": 3,
   "metadata": {
    "collapsed": true
   },
   "outputs": [],
   "source": [
    "classifier = LogisticRegression()"
   ]
  },
  {
   "cell_type": "markdown",
   "metadata": {},
   "source": [
    "The logistic regression provides us with a probability for each class. The expectation of a probability is that it is well-calibrated, i.e., a probability of 90% of the red class for a specific instance should really mean that over all examples with a probability of 90%, exactly 10% are actually of the blue class. Perplexity measures that aspect."
   ]
  },
  {
   "cell_type": "code",
   "execution_count": 4,
   "metadata": {
    "collapsed": true
   },
   "outputs": [],
   "source": [
    "from scipy.stats import gmean\n",
    "    \n",
    "def perplexity(estimator, X, y):\n",
    "    likelihoods = [p if t == 1.0 else 1-p for (t, p) in zip(y, estimator.predict_proba(X).T[1])]\n",
    "    return gmean(likelihoods)"
   ]
  },
  {
   "cell_type": "markdown",
   "metadata": {},
   "source": [
    "The logistic regression is a predictive model that can be framed as regularized empirical risk estimator. These estimators trade-off a minimal training error against model complexity, penalized by a regularization term. A typical choice is the Lp-norm that corresponds to a spherical covariance matrix (scale of the identify matrix) assumption. This means that all features are assumpted to be zero-centered and have roughly the same variance. To ensure that, we apply a z-normalization. "
   ]
  },
  {
   "cell_type": "code",
   "execution_count": 5,
   "metadata": {
    "collapsed": true
   },
   "outputs": [],
   "source": [
    "feature_normalization = StandardScaler()"
   ]
  },
  {
   "cell_type": "markdown",
   "metadata": {},
   "source": [
    "In some applications, we are interested in a small number of most discriptive features. There are different ways to do that and the sklearn framework provides some implementations. To demonstrate that, let us assume that we would like find only the best feature."
   ]
  },
  {
   "cell_type": "code",
   "execution_count": 6,
   "metadata": {
    "collapsed": true
   },
   "outputs": [],
   "source": [
    "feature_selection = SelectKBest(score_func=f_classif, k=1)"
   ]
  },
  {
   "cell_type": "markdown",
   "metadata": {},
   "source": [
    "These steps belong together: whenever we would like to classify an instance, we need to normalize it's features and run the classifier. The normalization constants, the best feature(s), and the model parameters are inferred at training time. The pipeline framework allows us to group them together."
   ]
  },
  {
   "cell_type": "code",
   "execution_count": 7,
   "metadata": {
    "collapsed": false
   },
   "outputs": [],
   "source": [
    "pipeline = Pipeline([\n",
    "    ('preprocessing', feature_normalization),\n",
    "    ('features-selection', feature_selection),\n",
    "    ('classifier', classifier),\n",
    "])"
   ]
  },
  {
   "cell_type": "markdown",
   "metadata": {},
   "source": [
    "The aforementioned trade-off between model complexity and training error is a hyper-parameter, which means that it is assumed to be given for the estimation of the model parameters. It is typically optimized via grid search. Note, that we need use the pipeline as a whole in order to find the parameter that generalizes most.\n",
    "\n",
    "Note, that we could also optimized the number of features to be selected. This can easily be done, by extending `param_grid` by `features_selection__k`."
   ]
  },
  {
   "cell_type": "code",
   "execution_count": 8,
   "metadata": {
    "collapsed": false
   },
   "outputs": [],
   "source": [
    "Cs = np.logspace(-3, 3, 7)\n",
    "pipelineOptimalC = GridSearchCV(\n",
    "    estimator=pipeline,\n",
    "    scoring=perplexity,\n",
    "    param_grid={\n",
    "        'classifier__C': Cs\n",
    "    }\n",
    ")"
   ]
  },
  {
   "cell_type": "markdown",
   "metadata": {},
   "source": [
    "An realistic estimate of the perplexity of the protocol encrypted by this pipeline is obtained by cross validation."
   ]
  },
  {
   "cell_type": "code",
   "execution_count": 9,
   "metadata": {
    "collapsed": false
   },
   "outputs": [
    {
     "data": {
      "text/plain": [
       "0.82695026244002323"
      ]
     },
     "execution_count": 9,
     "metadata": {},
     "output_type": "execute_result"
    }
   ],
   "source": [
    "cross_val_score(pipelineOptimalC, X, y, scoring=perplexity, cv=5).mean()"
   ]
  },
  {
   "cell_type": "markdown",
   "metadata": {},
   "source": [
    "This is an estimate of the procedure that produces a predictive model. Now, we train the final model."
   ]
  },
  {
   "cell_type": "code",
   "execution_count": 10,
   "metadata": {
    "collapsed": false
   },
   "outputs": [],
   "source": [
    "pipelineOptimalC = pipelineOptimalC.fit(X, y).best_estimator_\n",
    "classifierOptimalC = pipelineOptimalC.named_steps['classifier']\n",
    "optimalFeatureSelection = pipelineOptimalC.named_steps['features-selection']"
   ]
  },
  {
   "cell_type": "markdown",
   "metadata": {
    "collapsed": false
   },
   "source": [
    "Note, that the optimal hyperparameter was estimated in an inner CV."
   ]
  },
  {
   "cell_type": "code",
   "execution_count": 11,
   "metadata": {
    "collapsed": false
   },
   "outputs": [
    {
     "data": {
      "text/plain": [
       "10.0"
      ]
     },
     "execution_count": 11,
     "metadata": {},
     "output_type": "execute_result"
    }
   ],
   "source": [
    "classifierOptimalC.C"
   ]
  },
  {
   "cell_type": "markdown",
   "metadata": {},
   "source": [
    "Finally, let's plot the result."
   ]
  },
  {
   "cell_type": "code",
   "execution_count": 12,
   "metadata": {
    "collapsed": false
   },
   "outputs": [
    {
     "data": {
      "text/plain": [
       "[<matplotlib.lines.Line2D at 0x7f86a0763810>]"
      ]
     },
     "execution_count": 12,
     "metadata": {},
     "output_type": "execute_result"
    },
    {
     "data": {
      "image/png": "[encoded data removed]",
      "text/plain": [
       "<matplotlib.figure.Figure at 0x7f86a07e3610>"
      ]
     },
     "metadata": {},
     "output_type": "display_data"
    }
   ],
   "source": [
    "Xt = pipelineOptimalC.named_steps['preprocessing'].transform(X)\n",
    "plt.scatter(Xt[y == +1, 0], Xt[y == +1, 1], .8, color='red')\n",
    "plt.scatter(Xt[y == -1, 0], Xt[y == -1, 1], .8, color='blue')\n",
    "\n",
    "def eval_linear(x, w, intercept):\n",
    "    \"\"\"\n",
    "    Evaluate x_2 for a given x_1, s.t. (x_1, x_2) lies on the 2d hyperplane (w,intercept)\n",
    "    \"\"\"\n",
    "    m = -w[0]/w[1]\n",
    "    n = -intercept/w[1]\n",
    "    y = m*x+n\n",
    "    return y\n",
    "\n",
    "xvals = np.array(plt.xlim())\n",
    "# keep two dimensions two plot\n",
    "w = np.array([10E-10, 10E-10])\n",
    "w[optimalFeatureSelection.get_support()] = classifierOptimalC.coef_[0]\n",
    "yvals = eval_linear(xvals, w, classifierOptimalC.intercept_[0])\n",
    "plt.plot(xvals, yvals, color='black')"
   ]
  },
  {
   "cell_type": "code",
   "execution_count": null,
   "metadata": {
    "collapsed": true
   },
   "outputs": [],
   "source": []
  }
 ],
 "metadata": {
  "kernelspec": {
   "display_name": "Python 2",
   "language": "python",
   "name": "python2"
  },
  "language_info": {
   "codemirror_mode": {
    "name": "ipython",
    "version": 2
   },
   "file_extension": ".py",
   "mimetype": "text/x-python",
   "name": "python",
   "nbconvert_exporter": "python",
   "pygments_lexer": "ipython2",
   "version": "2.7.6"
  }
 },
 "nbformat": 4,
 "nbformat_minor": 0
}
